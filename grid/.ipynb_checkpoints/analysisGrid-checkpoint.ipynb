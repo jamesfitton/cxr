{
 "cells": [
  {
   "cell_type": "markdown",
   "metadata": {},
   "source": [
    "# A hexagonal analysis grid"
   ]
  },
  {
   "cell_type": "markdown",
   "metadata": {},
   "source": [
    "A global grid is required to split the analysis of the satellite imagery into smaller areas within which the analysis is conducted. Coast XRay makes use of the ISEA3H: Icosahedral Snyder Equal Area Aperture 3 Hexagonal Grid which can be accessed via the R package [dggridR](https://cran.r-project.org/web/packages/dggridR). A hexagonal grid was chosen as this ensures that (almost) all cells are of an equal area, regardless where you are on the globe.\n",
    "\n",
    "The ISEA3H grid is available at different resolutions, with resolution '12' (cells have an area of approximately 96 km<sup>2</sup>) being the most appropriate for CoastXRay analysis. The other resolutions are as follows:"
   ]
  },
  {
   "cell_type": "markdown",
   "metadata": {},
   "source": [
    "![ISEA3H_res_table.png](ISEA3H_res_table.png)"
   ]
  },
  {
   "cell_type": "markdown",
   "metadata": {},
   "source": [
    "### Install R Packages"
   ]
  },
  {
   "cell_type": "markdown",
   "metadata": {},
   "source": [
    "The dggridR package needs to be installed, along with the dplyr, rgdal, ggplot2, and maps. If these are not installed already uncomment the code below and run the code cell."
   ]
  },
  {
   "cell_type": "code",
   "execution_count": null,
   "metadata": {},
   "outputs": [],
   "source": [
    "## required packages\n",
    "require(\"dggridR\") \n"
   ]
  },
  {
   "cell_type": "markdown",
   "metadata": {},
   "source": [
    "We can test everything is working is working correctly by creating a grid and mapping the output.Below we create a grid with the resolution of 5, which covers the globe in 2,432 cells. If everything is working, you should see a global map showing green hexagons."
   ]
  },
  {
   "cell_type": "code",
   "execution_count": null,
   "metadata": {
    "scrolled": false
   },
   "outputs": [],
   "source": [
    "# Resolution of grid\n",
    "resolution <- 5\n",
    "\n",
    "# Contruct the grid\n",
    "dggs <- dgconstruct(res=resolution)\n",
    "global <- dgearthgrid(dggs, frame=TRUE)\n",
    "\n",
    "# Get spatial data for the countries\n",
    "countries <- map_data(\"world\")\n",
    "\n",
    "# Create a plot of the grid and world\n",
    "p<- ggplot() + \n",
    "    geom_polygon(data=countries, aes(x=long, y=lat, group=group), fill=NA, color=\"black\")   +\n",
    "    geom_polygon(data=global,      aes(x=long, y=lat, group=group), fill=\"green\", alpha=0.4) +\n",
    "    geom_path   (data=global,      aes(x=long, y=lat, group=group), alpha=0.4, color=\"white\")\n",
    "p"
   ]
  },
  {
   "cell_type": "markdown",
   "metadata": {},
   "source": [
    "# Export a grid of your area of interest"
   ]
  },
  {
   "cell_type": "markdown",
   "metadata": {},
   "source": [
    "If the above map is created successfully, you can export a shapefile of a grid to a local directory using the code below. For resolutions above 10 it is advisable to create a local, rather than global grid. You may need to increase memory size that R can access when exporting the higher (10 and up) resolution levels (memory.limit()).\n",
    "\n",
    "You will need a shapefile delineating your area of interest as an input to this code."
   ]
  },
  {
   "cell_type": "code",
   "execution_count": null,
   "metadata": {},
   "outputs": [],
   "source": [
    "#set the resolution\n",
    "resolution <- 12\n",
    "\n",
    "#create the grid\n",
    "dggs <- dgconstruct(res=resolution)\n",
    "\n",
    "#create the local grid using a local shapefile\n",
    "localGrid <- dgshptogrid(dggs = dggs, shpfname = \"./areasOfInterest/aoiTay.shp\", savegrid = \"./gridsLocal/tayGrid_12.shp\")\n"
   ]
  }
 ],
 "metadata": {
  "kernelspec": {
   "display_name": "R",
   "language": "R",
   "name": "ir"
  },
  "language_info": {
   "codemirror_mode": "r",
   "file_extension": ".r",
   "mimetype": "text/x-r-source",
   "name": "R",
   "pygments_lexer": "r",
   "version": "4.0.0"
  }
 },
 "nbformat": 4,
 "nbformat_minor": 2
}
