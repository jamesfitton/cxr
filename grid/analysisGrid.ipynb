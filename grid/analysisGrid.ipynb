{
 "cells": [
  {
   "cell_type": "markdown",
   "metadata": {},
   "source": [
    "# 1.0 A hexagonal analysis grid"
   ]
  },
  {
   "cell_type": "markdown",
   "metadata": {},
   "source": [
    "A global grid is required to split the analysis of the satellite imagery into smaller areas within which the analysis is conducted. Coast X-Ray makes use of the ISEA3H: Icosahedral Snyder Equal Area Aperture 3 Hexagonal Grid which can be accessed via the R package [dggridR](https://cran.r-project.org/web/packages/dggridR). A hexagonal grid was chosen as this ensures that (almost) all cells are of an equal area, regardless where you are on the globe.\n",
    "\n",
    "The ISEA3H grid is available at different resolutions, with resolution '12' (cells have an area of approximately 96 km<sup>2</sup>) being the most appropriate for Coast X-Ray analysis. The other resolutions are as follows:"
   ]
  },
  {
   "cell_type": "markdown",
   "metadata": {},
   "source": [
    "![ISEA3H_res_table.png](./ISEA3H_res_table.png)\n",
    "\n"
   ]
  },
  {
   "cell_type": "markdown",
   "metadata": {},
   "source": [
    "## 1.2 Install R Packages"
   ]
  },
  {
   "cell_type": "markdown",
   "metadata": {},
   "source": [
    "The dggridR package needs to be installed, along with the dplyr, rgdal, ggplot2, and maps. If these are not installed already uncomment the code below and run the code cell."
   ]
  },
  {
   "cell_type": "code",
   "execution_count": null,
   "metadata": {},
   "outputs": [],
   "source": [
    "## required packages\n",
    "require(\"dggridR\") \n"
   ]
  },
  {
   "cell_type": "markdown",
   "metadata": {},
   "source": [
    "We can test everything is working is working correctly by creating a grid and mapping the output. Below we create a grid with the resolution of 5, which covers the globe in 2,432 cells. If everything is working, you should see a global map showing green hexagons."
   ]
  },
  {
   "cell_type": "code",
   "execution_count": null,
   "metadata": {
    "scrolled": false
   },
   "outputs": [],
   "source": [
    "# Resolution of grid\n",
    "resolution <- 5\n",
    "\n",
    "# Contruct the grid\n",
    "dggs <- dgconstruct(res=resolution)\n",
    "global <- dgearthgrid(dggs, frame=TRUE)\n",
    "\n",
    "# Get spatial data for the countries\n",
    "countries <- map_data(\"world\")\n",
    "\n",
    "# Create a plot of the grid and world\n",
    "p<- ggplot() + \n",
    "    geom_polygon(data=countries, aes(x=long, y=lat, group=group), fill=NA, color=\"black\")   +\n",
    "    geom_polygon(data=global,      aes(x=long, y=lat, group=group), fill=\"green\", alpha=0.4) +\n",
    "    geom_path   (data=global,      aes(x=long, y=lat, group=group), alpha=0.4, color=\"white\")\n",
    "p"
   ]
  },
  {
   "cell_type": "markdown",
   "metadata": {},
   "source": [
    "## 1.3 Export a global grid "
   ]
  },
  {
   "cell_type": "markdown",
   "metadata": {},
   "source": [
    "If the above map is created successfully, you can export a shapefile grid to a local directory using the code below. This creates a global grid, we will remove the unwanted cells from the global grid for your area of interest in the next step."
   ]
  },
  {
   "cell_type": "code",
   "execution_count": null,
   "metadata": {},
   "outputs": [],
   "source": [
    "#you may need to increase memory size that R can access when exporting the higher (10 and up) resolution levels\n",
    "memory.limit(32000)\n",
    "\n",
    "#set the resolution of the grid (see the ISEA3H information at the top if this doc)\n",
    "resolution <- 12\n",
    "\n",
    "#create the global grid\n",
    "dggs <- dgconstruct(res=resolution)\n",
    "global <- dgearthgrid(dggs, frame=FALSE)\n",
    "\n",
    "#set the export path and file name\n",
    "exportPath <- \"./gridsGlobal/ISEA3H_12.shp\"\n",
    "\n",
    "#prepare the grid for output\n",
    "global.cell <- data.frame(cell=getSpPPolygonsIDSlots(global),row.names=getSpPPolygonsIDSlots(global))\n",
    "global <- SpatialPolygonsDataFrame(global, global.cell)\n",
    "\n",
    "for(i in 1:length(global@polygons)) {\n",
    "  if(max(global@polygons[[i]]@Polygons[[1]]@coords[,1]) - \n",
    "     min(global@polygons[[i]]@Polygons[[1]]@coords[,1]) > 270) {\n",
    "    global@polygons[[i]]@Polygons[[1]]@coords[,1] <- (global@polygons[[i]]@Polygons[[1]]@coords[,1] +360) %% 360\n",
    "  }\n",
    "}\n",
    "\n",
    "#write the shapefile to local\n",
    "#it takes about three days, to export the 13 grid, an hour for the 12 grid, 10 mins for the 11, and much quicker for the smaller resolutions (computer dependent)\n",
    "writeOGR(global, exportPath,\"\", \"ESRI Shapefile\")"
   ]
  },
  {
   "cell_type": "markdown",
   "metadata": {},
   "source": [
    "**END**"
   ]
  }
 ],
 "metadata": {
  "kernelspec": {
   "display_name": "R",
   "language": "R",
   "name": "ir"
  },
  "language_info": {
   "codemirror_mode": "r",
   "file_extension": ".r",
   "mimetype": "text/x-r-source",
   "name": "R",
   "pygments_lexer": "r",
   "version": "4.0.0"
  }
 },
 "nbformat": 4,
 "nbformat_minor": 2
}
