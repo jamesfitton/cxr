{
 "cells": [
  {
   "cell_type": "markdown",
   "metadata": {},
   "source": [
    "# 2.0 Creating an Intertidal Grid"
   ]
  },
  {
   "cell_type": "markdown",
   "metadata": {},
   "source": [
    "In the previous step, we created a hexagonal grid. We can filter this grid down to only the cells that cover the coast/intertidal areas of the Area of Interest (AoI). This is done so we do now waste time/resources analysing cells that we have no interest in.\n",
    "\n",
    "We will use Google Earth Engine (GEE) via the python API. Therefore the python API should already be **imported** and **authenticated** for the following code to work. "
   ]
  },
  {
   "cell_type": "markdown",
   "metadata": {},
   "source": [
    "## 2.1 Python Setup"
   ]
  },
  {
   "cell_type": "markdown",
   "metadata": {},
   "source": [
    "Python needs to be setup with the modules that are going to be used.\n"
   ]
  },
  {
   "cell_type": "code",
   "execution_count": null,
   "metadata": {},
   "outputs": [],
   "source": [
    "# Standard library imports\n",
    "import datetime\n",
    "import time\n",
    "import os\n",
    "\n",
    "#Import Earth Engine\n",
    "import ee\n",
    "\n",
    "#Import Coast X-Ray Module\n",
    "import cxrIntertidalGrid as cxr\n",
    "cxr.ee = ee"
   ]
  },
  {
   "cell_type": "markdown",
   "metadata": {},
   "source": [
    "Then, Google Earth Engine needs to be initialised (GEE needs to be authenticated before this step: see https://developers.google.com/earth-engine/python_install-conda). Check to see if GEE is successfully intialised by runninging the code below."
   ]
  },
  {
   "cell_type": "code",
   "execution_count": null,
   "metadata": {},
   "outputs": [],
   "source": [
    "#Initalise GEE\n",
    "try:\n",
    "  ee.Initialize()\n",
    "  print('The Earth Engine package initialised successfully!')\n",
    "except ee.EEException as e:\n",
    "  print('The Earth Engine package failed to initialise!')\n",
    "except:\n",
    "    print(\"Unexpected error:\", sys.exc_info()[0])\n",
    "    raise"
   ]
  },
  {
   "cell_type": "markdown",
   "metadata": {},
   "source": [
    "## 2.2 GEE "
   ]
  },
  {
   "cell_type": "markdown",
   "metadata": {},
   "source": [
    "Coast XRay will need to be able to upload and export data/assets to your GEE account. It is therefore necessary to create a folder structure that will support this. "
   ]
  },
  {
   "cell_type": "code",
   "execution_count": null,
   "metadata": {},
   "outputs": [],
   "source": [
    "# Your GEE username\n",
    "user = \"jamesmfitton\"\n",
    "\n",
    "#the folder path you wish to import the global grid in to on GEE\n",
    "gridPath = \"GridTest\"\n",
    "\n",
    "#the name of the final intertidal grid output\n",
    "intertidalGridName = 'ISEA3H_12_AoI'\n",
    "\n",
    "### USER INPUT ENDS ###"
   ]
  },
  {
   "cell_type": "markdown",
   "metadata": {},
   "source": [
    "The grid and export folders are then created:"
   ]
  },
  {
   "cell_type": "code",
   "execution_count": null,
   "metadata": {},
   "outputs": [],
   "source": [
    "# NB If you have created this folder before in a previous run of this script this step is not necessary, however \n",
    "# it does not create problems if it is rerun\n",
    "\n",
    "#create the export folder\n",
    "os.system(\"earthengine create folder users/\" + user + \"/\" + gridPath)"
   ]
  },
  {
   "cell_type": "markdown",
   "metadata": {},
   "source": [
    "## 2.3 Upload the Global Grid to GEE"
   ]
  },
  {
   "cell_type": "markdown",
   "metadata": {},
   "source": [
    "In order to be able to use the grid that we created previously, we need to upload it to GEE. There are a number of ways to upload data to GEE, however the simplest is to upload data via the GEE Code Editor interface https://code.earthengine.google.com."
   ]
  },
  {
   "cell_type": "markdown",
   "metadata": {},
   "source": [
    "### 2.3.1 Code Editor Upload \n",
    "\n",
    "Go to the code editor, and click on the assets tab in the top-left, then 'New'. You'll be then see the following options:\n",
    "\n",
    "<img src=\"assetUpload.jpg\" width=\"300\">\n",
    "\n",
    "To upload a shapefile, select 'Shape files', which will then give you the following menu. Click on Select, and then navigate to the folder where you have created the grid shapefiles and select the appropriate files: the shp, zip, dbf, prj, shx, cpg, fix, qix, sbn or shp.xml.\n",
    "\n",
    "<img src=\"Asset_manager_table_upload.png\" width=\"300\"> \n",
    "\n",
    "In the asset name, add the folder path which was created above and an appropriate file name e.g. Grid/ISEA3H_06_GBR.\n",
    "\n",
    "Click OK, and a task should appear in the 'Tasks' tab in the top-right. You can monitor the progress of the upload here. **Once it has finished uploading (the task will turn blue) you can proceed with the rest of the script**.\n",
    "\n",
    "For more information on importing assets go to https://developers.google.com/earth-engine/importing."
   ]
  },
  {
   "cell_type": "markdown",
   "metadata": {},
   "source": [
    "## 2.4 Area of Interest"
   ]
  },
  {
   "cell_type": "markdown",
   "metadata": {},
   "source": [
    "The AoI for the analysis needs to be defined. This is done using by creating an ee.Geometry.Polygon. The easiest way to do this is with the Code Editor. Go to https://code.earthengine.google.com, then draw a shape on the map using the tools in the top-left of the map (1 in the image below).\n",
    "\n",
    "When you have finished drawing the shape it will appear in the imports area of the code editor. Click on the small blue code button to show the generated code (2 in the image below). Copy and paste the code and replace the geometry below, removing the color information (the text between the /*  */).\n",
    "\n",
    "<img src=\"drawingAoI.jpg\" width=\"700\"> \n",
    "\n",
    "You can find more information about drawing geometries at https://developers.google.com/earth-engine/playground#geometry-tools.\n",
    "\n",
    "*A shapefile which covers your AoI can be uploaded to GEE as described above in 2.3. This can then be used instead of the ee.Geometry.Polygon below. e.g. aoi = ee.FeatureCollection('users/jamesmfitton/AreasOfInterest/Scotland')*"
   ]
  },
  {
   "cell_type": "code",
   "execution_count": null,
   "metadata": {},
   "outputs": [],
   "source": [
    "# Scotland AOI Example\n",
    "aoi = ee.Geometry.Polygon(\n",
    "         [[[-0.9840287169561179, 61.13564198277186],\n",
    "          [-3.071431060706118, 59.847949925299126],\n",
    "          [-8.125141998206118, 58.20873815824193],\n",
    "          [-8.752613334602048, 57.84454583892709],\n",
    "          [-8.235005279456118, 56.53869912008898],\n",
    "          [-6.125630279456118, 55.30769017836354],\n",
    "          [-5.936565679354999, 55.238738807677024],\n",
    "          [-5.356587310706118, 54.82960313608375],\n",
    "          [-5.005024810706118, 54.448120789563],\n",
    "          [-4.417335104159065, 54.5353182238508],\n",
    "          [-3.994282623206118, 54.46089457496747],\n",
    "          [-3.329609771643618, 54.47366437484056],\n",
    "          [-1.115864654456118, 55.33269460948912],\n",
    "          [0.46616659554388207, 61.093185357531226]]]);\n",
    "\n"
   ]
  },
  {
   "cell_type": "markdown",
   "metadata": {},
   "source": [
    "### 2.3.2. Importing the Grid\n",
    "\n",
    "Now that the grid has been uploaded to GEE as an asset, it is now possible to access it and use this grid within our code as 'Feature Collection'."
   ]
  },
  {
   "cell_type": "code",
   "execution_count": null,
   "metadata": {},
   "outputs": [],
   "source": [
    "#Global hexagonal grid at 12 resolution\n",
    "\n",
    "#direct gridPath to the global grid within your GEE (an example is given)\n",
    "globalGridPath = 'users/jamesmfitton/GlobalGrid/Hex/ISEA3H_12'\n",
    "\n",
    "grid = ee.FeatureCollection(globalGridPath)"
   ]
  },
  {
   "cell_type": "markdown",
   "metadata": {},
   "source": [
    "The global grid is then filtered so that only cells that are within the bounds of the AoI polygon are retained."
   ]
  },
  {
   "cell_type": "code",
   "execution_count": null,
   "metadata": {},
   "outputs": [],
   "source": [
    "#filter the grid to the area of interest\n",
    "cxr.aoiGrid = grid.filterBounds(aoi)\n",
    "\n",
    "print(cxr.aoiGrid.size().getInfo(), 'Grid Cells')"
   ]
  },
  {
   "cell_type": "markdown",
   "metadata": {},
   "source": [
    "## 2.5 Intertidal Grid"
   ]
  },
  {
   "cell_type": "markdown",
   "metadata": {},
   "source": [
    "We want to further remove cells that cover the inland and far offshore areas of the grid. This is done by using three supporting datasets: data on the intertidal area [Murray et al. 2019](https://www.nature.com/articles/s41586-018-0805-8?WT.feed_name=subjects_biological-sciences), bathymetry data [GEBCO](https://www.gebco.net/), and the [OpenStreetMap](https://wiki.openstreetmap.org/wiki/Coastline) coastline.\n",
    "\n",
    "These datasets are used to create a mask dataset which represents areas that are at, or near, the coast. This mask can then be used to filter the AoI grid further."
   ]
  },
  {
   "cell_type": "code",
   "execution_count": null,
   "metadata": {},
   "outputs": [],
   "source": [
    "# Intertidal data - acts as a guide to help guide which areas are intertidal - Murray et al. 2019\n",
    "intertidal =  ee.ImageCollection(\"UQ/murray/Intertidal/v1_1/global_intertidal\") \\\n",
    "              .filterBounds(cxr.aoiGrid)\\\n",
    "              .filterMetadata('system:index', 'equals', '2014-2016')\n",
    "\n",
    "# Bathymetry data to help get rid of the incorrect deep water classifications in the Murray intertidal data\n",
    "bathymetryGebco = ee.Image('users/gena/GEBCO_2014_2D')\n",
    "\n",
    "# Gets the areas greater than -10 m depth\n",
    "shallowWaterMask = bathymetryGebco.resample('bicubic').gt(-10)\n",
    "\n",
    "# Smooths the shallow water data\n",
    "shallowWaterMask = cxr.focalMax(shallowWaterMask, 10)\n",
    "\n",
    "# Creates a mask of itself\n",
    "shallowWaterMask = shallowWaterMask.mask(shallowWaterMask)\n",
    "\n",
    "# OSM coastline - used to find the approximate positon of the coast\n",
    "coastline = ee.FeatureCollection(\"users/jamesmfitton/OSM/Coastal/coastlines\").filterBounds(cxr.aoiGrid)"
   ]
  },
  {
   "cell_type": "code",
   "execution_count": null,
   "metadata": {},
   "outputs": [],
   "source": [
    "### Generate the coastal mask ###\n",
    "\n",
    "# Create an empty image into which to paint the coastline\n",
    "empty = ee.Image().byte();\n",
    "\n",
    "# Turn the coastline into an image  and make the band name match the intertidal band name\n",
    "coastlineImage = empty.paint(coastline,1,10).rename(['classification']); \n",
    "# print(coastlineImage.bandNames().getInfo())\n",
    "\n",
    "#merge the intertidal and coastline image data\n",
    "intertidal = intertidal.merge(coastlineImage) \n",
    "\n",
    "intertidalGrid = intertidal.map(cxr.clip)\n",
    "\n",
    "#buffer the intertidal estimate by 1 km to allow for error\n",
    "intertidalBuffer = ee.Image(1) \\\n",
    "    .cumulativeCost(\n",
    "    **{'source': intertidalGrid.mosaic(), 'maxDistance': 1000}).lt(1000)\n",
    "intertidalBuffer = intertidalBuffer.updateMask(intertidalBuffer.eq(1));\n",
    "\n",
    "#remove the areas of deep water that are sometimes incorrectly classified as intertidal by the Murray et al. intertidal data\n",
    "intertidalBuffer = intertidalBuffer.updateMask(shallowWaterMask.eq(1)) "
   ]
  },
  {
   "cell_type": "code",
   "execution_count": null,
   "metadata": {},
   "outputs": [],
   "source": [
    "### Filter out non-coastal cells ###\n",
    "\n",
    "#finds which cells of the grid are within the intertidal buffer\n",
    "intertidalGrid = intertidalBuffer.reduceRegions(**{\n",
    "  'collection': cxr.aoiGrid,\n",
    "  'reducer': ee.Reducer.min(),\n",
    "  'scale': 30,\n",
    "  'tileScale': 1\n",
    "}).filterMetadata('min', 'greater_than', 0);\n",
    "\n",
    "intertidalGrid = intertidalGrid.map(cxr.stringToNumber)\n",
    "\n",
    "\n",
    "print(intertidalGrid.size().getInfo(), 'Intertidal Grid Cells')"
   ]
  },
  {
   "cell_type": "code",
   "execution_count": null,
   "metadata": {},
   "outputs": [],
   "source": [
    "print(intertidalGrid.getInfo(), 'Intertidal Grid Cells')"
   ]
  },
  {
   "cell_type": "markdown",
   "metadata": {},
   "source": [
    "## 2.7 Export "
   ]
  },
  {
   "cell_type": "markdown",
   "metadata": {},
   "source": [
    "The intertidal grid is then exported to GEE as an asset, where it can used in subsequent scripts.\n",
    "\n",
    "The intertidal grid name and the folder it will reside in are set in Section 2.2."
   ]
  },
  {
   "cell_type": "code",
   "execution_count": null,
   "metadata": {},
   "outputs": [],
   "source": [
    "#The intertidal grid is then uploaded to GEE as an asset.\n",
    "task = ee.batch.Export.table.toAsset(intertidalGrid, \"Coast XRay AoI Intertidal Grid\", \"users/\" \n",
    "                                     + user + \"/\" + gridPath + \"/\" + intertidalGridName)\n",
    "task.start()\n",
    "\n"
   ]
  },
  {
   "cell_type": "markdown",
   "metadata": {},
   "source": [
    "**END**"
   ]
  }
 ],
 "metadata": {
  "kernelspec": {
   "display_name": "Python 3",
   "language": "python",
   "name": "python3"
  },
  "language_info": {
   "codemirror_mode": {
    "name": "ipython",
    "version": 3
   },
   "file_extension": ".py",
   "mimetype": "text/x-python",
   "name": "python",
   "nbconvert_exporter": "python",
   "pygments_lexer": "ipython3",
   "version": "3.8.3"
  }
 },
 "nbformat": 4,
 "nbformat_minor": 2
}
